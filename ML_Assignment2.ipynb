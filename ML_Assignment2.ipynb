{
  "cells": [
    {
      "cell_type": "code",
      "execution_count": null,
      "metadata": {
        "id": "_JLbwXHBhECw"
      },
      "outputs": [],
      "source": [
        "#importing needed libraries\n",
        "import pandas as pd\n",
        "from sklearn.model_selection import train_test_split\n",
        "from sklearn.metrics import accuracy_score\n",
        "from sklearn.neighbors import KNeighborsClassifier\n",
        "from sklearn.preprocessing import LabelEncoder, StandardScaler\n",
        "from sklearn.linear_model import LogisticRegression\n",
        "from sklearn.metrics import confusion_matrix, ConfusionMatrixDisplay\n",
        "import seaborn as sns"
      ]
    },
    {
      "cell_type": "code",
      "execution_count": 2,
      "metadata": {
        "id": "x48tGJnEiTKN"
      },
      "outputs": [
        {
          "name": "stderr",
          "output_type": "stream",
          "text": [
            "<>:1: SyntaxWarning: invalid escape sequence '\\C'\n",
            "<>:1: SyntaxWarning: invalid escape sequence '\\C'\n",
            "C:\\Users\\Mega Store\\AppData\\Local\\Temp\\ipykernel_8264\\968400309.py:1: SyntaxWarning: invalid escape sequence '\\C'\n",
            "  df = pd.read_csv(\"D:\\College FCDS/Breast_Cancer_status.csv\")\n"
          ]
        }
      ],
      "source": [
        "df = pd.read_csv(\"D:\\College FCDS/Breast_Cancer_status.csv\")"
      ]
    },
    {
      "cell_type": "code",
      "execution_count": 3,
      "metadata": {
        "colab": {
          "base_uri": "https://localhost:8080/",
          "height": 363
        },
        "id": "oBaWsaQ0i-tl",
        "outputId": "a7e93b5b-96c0-4d6d-d7de-370da6476c0e"
      },
      "outputs": [
        {
          "data": {
            "text/html": [
              "<div>\n",
              "<style scoped>\n",
              "    .dataframe tbody tr th:only-of-type {\n",
              "        vertical-align: middle;\n",
              "    }\n",
              "\n",
              "    .dataframe tbody tr th {\n",
              "        vertical-align: top;\n",
              "    }\n",
              "\n",
              "    .dataframe thead th {\n",
              "        text-align: right;\n",
              "    }\n",
              "</style>\n",
              "<table border=\"1\" class=\"dataframe\">\n",
              "  <thead>\n",
              "    <tr style=\"text-align: right;\">\n",
              "      <th></th>\n",
              "      <th>Age</th>\n",
              "      <th>Tumor Size</th>\n",
              "      <th>Estrogen Status</th>\n",
              "      <th>Progesterone Status</th>\n",
              "      <th>Survival Months</th>\n",
              "      <th>Status</th>\n",
              "    </tr>\n",
              "  </thead>\n",
              "  <tbody>\n",
              "    <tr>\n",
              "      <th>0</th>\n",
              "      <td>68</td>\n",
              "      <td>4</td>\n",
              "      <td>Positive</td>\n",
              "      <td>Positive</td>\n",
              "      <td>60</td>\n",
              "      <td>Alive</td>\n",
              "    </tr>\n",
              "    <tr>\n",
              "      <th>1</th>\n",
              "      <td>50</td>\n",
              "      <td>35</td>\n",
              "      <td>Positive</td>\n",
              "      <td>Positive</td>\n",
              "      <td>62</td>\n",
              "      <td>Alive</td>\n",
              "    </tr>\n",
              "    <tr>\n",
              "      <th>2</th>\n",
              "      <td>58</td>\n",
              "      <td>63</td>\n",
              "      <td>Positive</td>\n",
              "      <td>Positive</td>\n",
              "      <td>75</td>\n",
              "      <td>Alive</td>\n",
              "    </tr>\n",
              "    <tr>\n",
              "      <th>3</th>\n",
              "      <td>58</td>\n",
              "      <td>18</td>\n",
              "      <td>Positive</td>\n",
              "      <td>Positive</td>\n",
              "      <td>84</td>\n",
              "      <td>Alive</td>\n",
              "    </tr>\n",
              "    <tr>\n",
              "      <th>4</th>\n",
              "      <td>47</td>\n",
              "      <td>41</td>\n",
              "      <td>Positive</td>\n",
              "      <td>Positive</td>\n",
              "      <td>50</td>\n",
              "      <td>Alive</td>\n",
              "    </tr>\n",
              "    <tr>\n",
              "      <th>5</th>\n",
              "      <td>51</td>\n",
              "      <td>20</td>\n",
              "      <td>Positive</td>\n",
              "      <td>Positive</td>\n",
              "      <td>89</td>\n",
              "      <td>Alive</td>\n",
              "    </tr>\n",
              "    <tr>\n",
              "      <th>6</th>\n",
              "      <td>51</td>\n",
              "      <td>8</td>\n",
              "      <td>Positive</td>\n",
              "      <td>Positive</td>\n",
              "      <td>54</td>\n",
              "      <td>Alive</td>\n",
              "    </tr>\n",
              "    <tr>\n",
              "      <th>7</th>\n",
              "      <td>40</td>\n",
              "      <td>30</td>\n",
              "      <td>Positive</td>\n",
              "      <td>Positive</td>\n",
              "      <td>14</td>\n",
              "      <td>Dead</td>\n",
              "    </tr>\n",
              "    <tr>\n",
              "      <th>8</th>\n",
              "      <td>40</td>\n",
              "      <td>103</td>\n",
              "      <td>Positive</td>\n",
              "      <td>Positive</td>\n",
              "      <td>70</td>\n",
              "      <td>Alive</td>\n",
              "    </tr>\n",
              "    <tr>\n",
              "      <th>9</th>\n",
              "      <td>69</td>\n",
              "      <td>32</td>\n",
              "      <td>Positive</td>\n",
              "      <td>Positive</td>\n",
              "      <td>92</td>\n",
              "      <td>Alive</td>\n",
              "    </tr>\n",
              "  </tbody>\n",
              "</table>\n",
              "</div>"
            ],
            "text/plain": [
              "   Age  Tumor Size Estrogen Status Progesterone Status  Survival Months Status\n",
              "0   68           4        Positive            Positive               60  Alive\n",
              "1   50          35        Positive            Positive               62  Alive\n",
              "2   58          63        Positive            Positive               75  Alive\n",
              "3   58          18        Positive            Positive               84  Alive\n",
              "4   47          41        Positive            Positive               50  Alive\n",
              "5   51          20        Positive            Positive               89  Alive\n",
              "6   51           8        Positive            Positive               54  Alive\n",
              "7   40          30        Positive            Positive               14   Dead\n",
              "8   40         103        Positive            Positive               70  Alive\n",
              "9   69          32        Positive            Positive               92  Alive"
            ]
          },
          "execution_count": 3,
          "metadata": {},
          "output_type": "execute_result"
        }
      ],
      "source": [
        "#a look on the dataset\n",
        "df.head(10)"
      ]
    },
    {
      "cell_type": "code",
      "execution_count": 5,
      "metadata": {
        "colab": {
          "base_uri": "https://localhost:8080/"
        },
        "id": "k0pdgEtZjHfT",
        "outputId": "db8f3aca-566b-499a-e976-f64ab3bf03d4"
      },
      "outputs": [
        {
          "name": "stdout",
          "output_type": "stream",
          "text": [
            "   Age  Tumor Size  Estrogen Status  Progesterone Status  Survival Months  \\\n",
            "0   68           4                1                    1               60   \n",
            "1   50          35                1                    1               62   \n",
            "2   58          63                1                    1               75   \n",
            "3   58          18                1                    1               84   \n",
            "4   47          41                1                    1               50   \n",
            "5   51          20                1                    1               89   \n",
            "6   51           8                1                    1               54   \n",
            "7   40          30                1                    1               14   \n",
            "\n",
            "   Status  \n",
            "0       1  \n",
            "1       1  \n",
            "2       1  \n",
            "3       1  \n",
            "4       1  \n",
            "5       1  \n",
            "6       1  \n",
            "7       0  \n"
          ]
        }
      ],
      "source": [
        "#Encoding categorical variables to be numerical, which are (Progesterone Status - Survival Months - Status)\n",
        "le = LabelEncoder()\n",
        "df['Estrogen Status'] = le.fit_transform(df['Estrogen Status'])  # Positive = 1, Negative = 0\n",
        "df['Progesterone Status'] = le.fit_transform(df['Progesterone Status'])\n",
        "\n",
        "# Encode 'Status' column manually (Alive = 1, Dead = 0)\n",
        "df['Status'] = df['Status'].map({'Alive': 1, 'Dead': 0})\n",
        "\n",
        "# Preview the encoded dataframe\n",
        "print(df.head(8))"
      ]
    },
    {
      "cell_type": "code",
      "execution_count": 6,
      "metadata": {
        "colab": {
          "base_uri": "https://localhost:8080/"
        },
        "id": "MLdHobE-jR_4",
        "outputId": "ef83027a-b67c-4ec8-8c40-94c01437441f"
      },
      "outputs": [
        {
          "name": "stdout",
          "output_type": "stream",
          "text": [
            "Age                    0\n",
            "Tumor Size             0\n",
            "Estrogen Status        0\n",
            "Progesterone Status    0\n",
            "Survival Months        0\n",
            "Status                 0\n",
            "dtype: int64\n"
          ]
        }
      ],
      "source": [
        "#checking if there null values\n",
        "print(df.isnull().sum())"
      ]
    },
    {
      "cell_type": "code",
      "execution_count": 7,
      "metadata": {
        "colab": {
          "base_uri": "https://localhost:8080/",
          "height": 300
        },
        "id": "FFlDek_qjVsq",
        "outputId": "4f414554-de42-4e52-d833-a9687229aab8"
      },
      "outputs": [
        {
          "data": {
            "text/html": [
              "<div>\n",
              "<style scoped>\n",
              "    .dataframe tbody tr th:only-of-type {\n",
              "        vertical-align: middle;\n",
              "    }\n",
              "\n",
              "    .dataframe tbody tr th {\n",
              "        vertical-align: top;\n",
              "    }\n",
              "\n",
              "    .dataframe thead th {\n",
              "        text-align: right;\n",
              "    }\n",
              "</style>\n",
              "<table border=\"1\" class=\"dataframe\">\n",
              "  <thead>\n",
              "    <tr style=\"text-align: right;\">\n",
              "      <th></th>\n",
              "      <th>Age</th>\n",
              "      <th>Tumor Size</th>\n",
              "      <th>Estrogen Status</th>\n",
              "      <th>Progesterone Status</th>\n",
              "      <th>Survival Months</th>\n",
              "      <th>Status</th>\n",
              "    </tr>\n",
              "  </thead>\n",
              "  <tbody>\n",
              "    <tr>\n",
              "      <th>count</th>\n",
              "      <td>4024.000000</td>\n",
              "      <td>4024.000000</td>\n",
              "      <td>4024.000000</td>\n",
              "      <td>4024.000000</td>\n",
              "      <td>4024.000000</td>\n",
              "      <td>4024.000000</td>\n",
              "    </tr>\n",
              "    <tr>\n",
              "      <th>mean</th>\n",
              "      <td>53.972167</td>\n",
              "      <td>30.473658</td>\n",
              "      <td>0.933151</td>\n",
              "      <td>0.826541</td>\n",
              "      <td>71.297962</td>\n",
              "      <td>0.846918</td>\n",
              "    </tr>\n",
              "    <tr>\n",
              "      <th>std</th>\n",
              "      <td>8.963134</td>\n",
              "      <td>21.119696</td>\n",
              "      <td>0.249791</td>\n",
              "      <td>0.378691</td>\n",
              "      <td>22.921430</td>\n",
              "      <td>0.360111</td>\n",
              "    </tr>\n",
              "    <tr>\n",
              "      <th>min</th>\n",
              "      <td>30.000000</td>\n",
              "      <td>1.000000</td>\n",
              "      <td>0.000000</td>\n",
              "      <td>0.000000</td>\n",
              "      <td>1.000000</td>\n",
              "      <td>0.000000</td>\n",
              "    </tr>\n",
              "    <tr>\n",
              "      <th>25%</th>\n",
              "      <td>47.000000</td>\n",
              "      <td>16.000000</td>\n",
              "      <td>1.000000</td>\n",
              "      <td>1.000000</td>\n",
              "      <td>56.000000</td>\n",
              "      <td>1.000000</td>\n",
              "    </tr>\n",
              "    <tr>\n",
              "      <th>50%</th>\n",
              "      <td>54.000000</td>\n",
              "      <td>25.000000</td>\n",
              "      <td>1.000000</td>\n",
              "      <td>1.000000</td>\n",
              "      <td>73.000000</td>\n",
              "      <td>1.000000</td>\n",
              "    </tr>\n",
              "    <tr>\n",
              "      <th>75%</th>\n",
              "      <td>61.000000</td>\n",
              "      <td>38.000000</td>\n",
              "      <td>1.000000</td>\n",
              "      <td>1.000000</td>\n",
              "      <td>90.000000</td>\n",
              "      <td>1.000000</td>\n",
              "    </tr>\n",
              "    <tr>\n",
              "      <th>max</th>\n",
              "      <td>69.000000</td>\n",
              "      <td>140.000000</td>\n",
              "      <td>1.000000</td>\n",
              "      <td>1.000000</td>\n",
              "      <td>107.000000</td>\n",
              "      <td>1.000000</td>\n",
              "    </tr>\n",
              "  </tbody>\n",
              "</table>\n",
              "</div>"
            ],
            "text/plain": [
              "               Age   Tumor Size  Estrogen Status  Progesterone Status  \\\n",
              "count  4024.000000  4024.000000      4024.000000          4024.000000   \n",
              "mean     53.972167    30.473658         0.933151             0.826541   \n",
              "std       8.963134    21.119696         0.249791             0.378691   \n",
              "min      30.000000     1.000000         0.000000             0.000000   \n",
              "25%      47.000000    16.000000         1.000000             1.000000   \n",
              "50%      54.000000    25.000000         1.000000             1.000000   \n",
              "75%      61.000000    38.000000         1.000000             1.000000   \n",
              "max      69.000000   140.000000         1.000000             1.000000   \n",
              "\n",
              "       Survival Months       Status  \n",
              "count      4024.000000  4024.000000  \n",
              "mean         71.297962     0.846918  \n",
              "std          22.921430     0.360111  \n",
              "min           1.000000     0.000000  \n",
              "25%          56.000000     1.000000  \n",
              "50%          73.000000     1.000000  \n",
              "75%          90.000000     1.000000  \n",
              "max         107.000000     1.000000  "
            ]
          },
          "execution_count": 7,
          "metadata": {},
          "output_type": "execute_result"
        }
      ],
      "source": [
        "#checking to see if the dataset features needs scalling or not\n",
        "df.describe()"
      ]
    },
    {
      "cell_type": "code",
      "execution_count": 6,
      "metadata": {
        "colab": {
          "base_uri": "https://localhost:8080/"
        },
        "id": "Ly5qpDNKlJRM",
        "outputId": "fd273d28-c0d2-4bc5-ea68-3924ae4500b7"
      },
      "outputs": [
        {
          "name": "stdout",
          "output_type": "stream",
          "text": [
            "X_train shape: (3219, 5)\n",
            "X_test shape: (805, 5)\n",
            "y_train shape: (3219,)\n",
            "y_test shape: (805,)\n"
          ]
        }
      ],
      "source": [
        "# Features (X) and Target (y)\n",
        "X = df.drop('Status', axis=1)  # all columns except the target\n",
        "y = df['Status']               # target column (alive=1, dead=0)\n",
        "\n",
        "# 80/20 split\n",
        "X_train, X_test, y_train, y_test = train_test_split(X, y, test_size=0.2, random_state=42)\n",
        "\n",
        "# Checking the shape of each set\n",
        "print(\"X_train shape:\", X_train.shape)\n",
        "print(\"X_test shape:\", X_test.shape)\n",
        "print(\"y_train shape:\", y_train.shape)\n",
        "print(\"y_test shape:\", y_test.shape)"
      ]
    },
    {
      "cell_type": "code",
      "execution_count": null,
      "metadata": {
        "id": "Cke1M_nukNl6"
      },
      "outputs": [],
      "source": [
        "#Feature Scaling (important for KNN)\n",
        "scaler = StandardScaler()\n",
        "X_scaled = scaler.fit_transform(X)"
      ]
    },
    {
      "cell_type": "code",
      "execution_count": null,
      "metadata": {
        "id": "zn_FleHDkNjB"
      },
      "outputs": [],
      "source": [
        "#Split into train (60%) and temporarily (40%)\n",
        "X_train, X_temp, y_train, y_temp = train_test_split(X_scaled, y, test_size=0.4, random_state=42, stratify=y)"
      ]
    },
    {
      "cell_type": "code",
      "execution_count": null,
      "metadata": {
        "colab": {
          "base_uri": "https://localhost:8080/"
        },
        "id": "8I1hNLXTkNgd",
        "outputId": "98465cf7-3998-453a-8911-a8a97187caa2"
      },
      "outputs": [
        {
          "name": "stdout",
          "output_type": "stream",
          "text": [
            "Train size: 2414\n",
            "Validation size: 805\n",
            "Test size: 805\n"
          ]
        }
      ],
      "source": [
        "#Split temporarily into validation (20%) and test (20%)\n",
        "X_val, X_test, y_val, y_test = train_test_split(X_temp, y_temp, test_size=0.5, random_state=42, stratify=y_temp)\n",
        "\n",
        "print(\"Train size:\", len(X_train))\n",
        "print(\"Validation size:\", len(X_val))\n",
        "print(\"Test size:\", len(X_test))"
      ]
    },
    {
      "cell_type": "markdown",
      "metadata": {},
      "source": [
        "***Fine tuning hyperparameter***"
      ]
    },
    {
      "cell_type": "code",
      "execution_count": null,
      "metadata": {
        "colab": {
          "base_uri": "https://localhost:8080/"
        },
        "id": "Aml7Fn-okNdT",
        "outputId": "1f87a3f0-13a8-4746-fbf2-9de3acf3d0a4"
      },
      "outputs": [
        {
          "name": "stdout",
          "output_type": "stream",
          "text": [
            "K=1, Validation Accuracy: 0.8360\n",
            "K=2, Validation Accuracy: 0.7826\n",
            "K=3, Validation Accuracy: 0.8845\n",
            "K=4, Validation Accuracy: 0.8634\n",
            "K=5, Validation Accuracy: 0.8845\n",
            "K=6, Validation Accuracy: 0.8845\n",
            "K=7, Validation Accuracy: 0.8894\n",
            "K=8, Validation Accuracy: 0.8870\n",
            "K=9, Validation Accuracy: 0.8857\n",
            "K=10, Validation Accuracy: 0.8894\n",
            "K=11, Validation Accuracy: 0.8845\n",
            "K=12, Validation Accuracy: 0.8882\n",
            "K=13, Validation Accuracy: 0.8857\n",
            "K=14, Validation Accuracy: 0.8894\n",
            "K=15, Validation Accuracy: 0.8870\n",
            "K=16, Validation Accuracy: 0.8894\n",
            "K=17, Validation Accuracy: 0.8845\n",
            "K=18, Validation Accuracy: 0.8882\n",
            "K=19, Validation Accuracy: 0.8857\n",
            "K=20, Validation Accuracy: 0.8894\n"
          ]
        }
      ],
      "source": [
        "#Try different K values on validation set\n",
        "#Import necessary libraries\n",
        "\n",
        "from sklearn.neighbors import KNeighborsClassifier  # Import KNeighborsClassifier\n",
        "from sklearn.metrics import accuracy_score\n",
        "k_values = list(range(1, 21))\n",
        "val_scores = []\n",
        "\n",
        "for k in k_values:\n",
        "    knn = KNeighborsClassifier(n_neighbors=k)\n",
        "    knn.fit(X_train, y_train)\n",
        "    y_val_pred = knn.predict(X_val)\n",
        "    acc = accuracy_score(y_val, y_val_pred)\n",
        "    val_scores.append(acc)\n",
        "    print(f\"K={k}, Validation Accuracy: {acc:.4f}\")"
      ]
    },
    {
      "cell_type": "code",
      "execution_count": 11,
      "metadata": {},
      "outputs": [
        {
          "data": {
            "image/png": "[encoded data removed]",
            "text/plain": [
              "<Figure size 640x480 with 1 Axes>"
            ]
          },
          "metadata": {},
          "output_type": "display_data"
        }
      ],
      "source": [
        "import matplotlib.pyplot as plt\n",
        "plt.plot(k_values, val_scores, marker='o')\n",
        "plt.xlabel(\"k\")\n",
        "plt.ylabel(\"Validation Accuracy\")\n",
        "plt.title(\"k-NN Hyperparameter Tuning\")\n",
        "plt.grid()\n",
        "plt.show()\n"
      ]
    },
    {
      "cell_type": "code",
      "execution_count": null,
      "metadata": {
        "colab": {
          "base_uri": "https://localhost:8080/"
        },
        "id": "EUOdnCOmkNbM",
        "outputId": "41d1f8c2-fce6-4a21-b546-39476dffedd0"
      },
      "outputs": [
        {
          "name": "stdout",
          "output_type": "stream",
          "text": [
            "\n",
            "Best K value: 7\n"
          ]
        }
      ],
      "source": [
        "#Select best K\n",
        "import numpy as np\n",
        "best_k = k_values[np.argmax(val_scores)]\n",
        "print(\"\\nBest K value:\", best_k)"
      ]
    },
    {
      "cell_type": "code",
      "execution_count": null,
      "metadata": {
        "colab": {
          "base_uri": "https://localhost:8080/"
        },
        "id": "D2xLegDSkNE8",
        "outputId": "91c4eb8d-6759-49be-ff36-62159d5bbd8e"
      },
      "outputs": [
        {
          "name": "stdout",
          "output_type": "stream",
          "text": [
            "Cross-validation accuracies for each fold: [0.89648033 0.88612836 0.91097308 0.90062112 0.87759336]\n",
            "Average cross-validation accuracy: 0.8943592519093151\n"
          ]
        }
      ],
      "source": [
        "from sklearn.model_selection import cross_val_score\n",
        "\n",
        "final_knn = KNeighborsClassifier(n_neighbors=best_k)\n",
        "\n",
        "# 5-fold cross-validation\n",
        "cv_scores = cross_val_score(final_knn, X_train, y_train, cv=5, scoring='accuracy')\n",
        "\n",
        "print(\"Cross-validation accuracies for each fold:\", cv_scores)\n",
        "print(\"Average cross-validation accuracy:\", cv_scores.mean())\n"
      ]
    },
    {
      "cell_type": "code",
      "execution_count": 16,
      "metadata": {},
      "outputs": [
        {
          "name": "stdout",
          "output_type": "stream",
          "text": [
            "Best Validation Accuracy: 0.8894409937888199\n"
          ]
        }
      ],
      "source": [
        "best_val_acc = max(val_scores)\n",
        "print(\"Best Validation Accuracy:\", best_val_acc)\n"
      ]
    },
    {
      "cell_type": "code",
      "execution_count": null,
      "metadata": {},
      "outputs": [
        {
          "data": {
            "text/plain": [
              "<sklearn.metrics._plot.confusion_matrix.ConfusionMatrixDisplay at 0x1de98cfa1b0>"
            ]
          },
          "execution_count": 17,
          "metadata": {},
          "output_type": "execute_result"
        },
        {
          "data": {
            "image/png": "[encoded data removed]",
            "text/plain": [
              "<Figure size 640x480 with 2 Axes>"
            ]
          },
          "metadata": {},
          "output_type": "display_data"
        }
      ],
      "source": [
        "from sklearn.metrics import confusion_matrix, ConfusionMatrixDisplay\n",
        "from sklearn.metrics import accuracy_score, precision_score, recall_score, f1_score\n",
        "\n",
        "final_knn.fit(X_train, y_train)\n",
        "\n",
        "# Predict on y test\n",
        "y_test_pred = final_knn.predict(X_test)\n",
        "\n",
        "# Confusion matrix\n",
        "cm = confusion_matrix(y_test, y_test_pred)\n",
        "disp = ConfusionMatrixDisplay(confusion_matrix=cm)\n",
        "disp.plot()\n"
      ]
    },
    {
      "cell_type": "code",
      "execution_count": null,
      "metadata": {},
      "outputs": [
        {
          "name": "stdout",
          "output_type": "stream",
          "text": [
            "Accuracy: 0.8993788819875776\n",
            "precision: 0.9110807113543091\n",
            "Recall: 0.9765395894428153\n",
            "F1-score: 0.9426751592356688\n"
          ]
        }
      ],
      "source": [
        "acc = accuracy_score(y_test, y_test_pred)\n",
        "prec = precision_score(y_test, y_test_pred)\n",
        "rec = recall_score(y_test, y_test_pred)\n",
        "f1 = f1_score(y_test, y_test_pred)\n",
        "\n",
        "print(\"Accuracy:\", acc)\n",
        "print(\"precision:\", prec)\n",
        "print(\"Recall:\", rec)\n",
        "print(\"F1-score:\", f1)\n"
      ]
    },
    {
      "cell_type": "markdown",
      "metadata": {},
      "source": [
        "***Model training with the best value of the hyperparameter***"
      ]
    },
    {
      "cell_type": "code",
      "execution_count": 13,
      "metadata": {},
      "outputs": [
        {
          "name": "stdout",
          "output_type": "stream",
          "text": [
            "Training Accuracy with k=7: 0.9080\n",
            "Test Accuracy with k=7: 0.9019\n"
          ]
        }
      ],
      "source": [
        "# Combine training and validation sets\n",
        "X_train_full = np.vstack((X_train, X_val))\n",
        "y_train_full = np.concatenate((y_train, y_val))\n",
        "\n",
        "# Train the final model with best k\n",
        "best_k = 7\n",
        "knn_final = KNeighborsClassifier(n_neighbors=best_k)\n",
        "knn_final.fit(X_train_full, y_train_full)\n",
        "\n",
        "# Evaluate on training set\n",
        "y_train_pred = knn_final.predict(X_train_full)\n",
        "train_acc = accuracy_score(y_train_full, y_train_pred)\n",
        "\n",
        "# Evaluate on test set\n",
        "y_test_pred = knn_final.predict(X_test)\n",
        "test_acc = accuracy_score(y_test, y_test_pred)\n",
        "\n",
        "# Print results\n",
        "print(f\"Training Accuracy with k={best_k}: {train_acc:.4f}\")\n",
        "print(f\"Test Accuracy with k={best_k}: {test_acc:.4f}\")\n"
      ]
    }
  ],
  "metadata": {
    "colab": {
      "provenance": []
    },
    "kernelspec": {
      "display_name": "Python 3",
      "language": "python",
      "name": "python3"
    },
    "language_info": {
      "codemirror_mode": {
        "name": "ipython",
        "version": 3
      },
      "file_extension": ".py",
      "mimetype": "text/x-python",
      "name": "python",
      "nbconvert_exporter": "python",
      "pygments_lexer": "ipython3",
      "version": "3.12.5"
    }
  },
  "nbformat": 4,
  "nbformat_minor": 0
}
